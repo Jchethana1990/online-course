{
  "nbformat": 4,
  "nbformat_minor": 0,
  "metadata": {
    "colab": {
      "name": "day1 session2 exercise programs.ipynb",
      "provenance": [],
      "authorship_tag": "ABX9TyNkFg++mrYwsKHZ9l5DYUE1",
      "include_colab_link": true
    },
    "kernelspec": {
      "name": "python3",
      "display_name": "Python 3"
    }
  },
  "cells": [
    {
      "cell_type": "markdown",
      "metadata": {
        "id": "view-in-github",
        "colab_type": "text"
      },
      "source": [
        "<a href=\"https://colab.research.google.com/github/Jchethana1990/online-course/blob/master/day1_session2_exercise_programs.ipynb\" target=\"_parent\"><img src=\"https://colab.research.google.com/assets/colab-badge.svg\" alt=\"Open In Colab\"/></a>"
      ]
    },
    {
      "cell_type": "markdown",
      "metadata": {
        "id": "C5wA3hAubCcA",
        "colab_type": "text"
      },
      "source": [
        "1.Write a program to print the triangle\n",
        "\n"
      ]
    },
    {
      "cell_type": "code",
      "metadata": {
        "id": "_VvPXylLagPA",
        "colab_type": "code",
        "colab": {
          "base_uri": "https://localhost:8080/",
          "height": 50
        },
        "outputId": "aedf632b-d18e-4c4d-be6d-26625498316e"
      },
      "source": [
        "k=1\n",
        "n=int(input(\"enter n value: \")) \n",
        "for i in range(0,n):\n",
        "  if(i>=2): \n",
        "    k=i+1\n",
        "for j in range(0,i+1): \n",
        "  print(k,end=\" \")\n",
        "  k=k+1 \n",
        "print()\n"
      ],
      "execution_count": 1,
      "outputs": [
        {
          "output_type": "stream",
          "text": [
            "enter n value: 5\n",
            "5 6 7 8 9 \n"
          ],
          "name": "stdout"
        }
      ]
    },
    {
      "cell_type": "markdown",
      "metadata": {
        "id": "wLZUbmBNbJFc",
        "colab_type": "text"
      },
      "source": [
        "2.python program to print pattern"
      ]
    },
    {
      "cell_type": "code",
      "metadata": {
        "id": "u4q-dn0FbMCt",
        "colab_type": "code",
        "colab": {
          "base_uri": "https://localhost:8080/",
          "height": 84
        },
        "outputId": "38327992-0799-41f8-f725-9f8fc65f1525"
      },
      "source": [
        "rows =int(input(\"enter num: \")) \n",
        "for i in range(0, rows):\n",
        "  for j in range(0, i + 1): \n",
        "    print(\"*\", end=' ')\n",
        "\n",
        "  print(\"\\r\")\n"
      ],
      "execution_count": 2,
      "outputs": [
        {
          "output_type": "stream",
          "text": [
            "enter num: 3\n",
            "* \n",
            "* * \n",
            "* * * \n"
          ],
          "name": "stdout"
        }
      ]
    },
    {
      "cell_type": "markdown",
      "metadata": {
        "id": "My1BjV0FcsL9",
        "colab_type": "text"
      },
      "source": [
        ""
      ]
    },
    {
      "cell_type": "code",
      "metadata": {
        "id": "VI9pX1rHbvdB",
        "colab_type": "code",
        "colab": {}
      },
      "source": [
        "3.pattren program"
      ],
      "execution_count": 0,
      "outputs": []
    },
    {
      "cell_type": "code",
      "metadata": {
        "id": "tmBcGymhbaiB",
        "colab_type": "code",
        "colab": {
          "base_uri": "https://localhost:8080/",
          "height": 50
        },
        "outputId": "3b2b247d-05c6-4319-ad78-feee48f2f531"
      },
      "source": [
        "k=4\n",
        "n=int(input(\"enter n value: \"))\n",
        "for i in range(n+1,0,-1):\n",
        "  for j in range(i,n+1): \n",
        "    print(j,end=\" \")\n",
        "print()"
      ],
      "execution_count": 15,
      "outputs": [
        {
          "output_type": "stream",
          "text": [
            "enter n value: 5\n",
            "5 4 5 3 4 5 2 3 4 5 1 2 3 4 5 \n"
          ],
          "name": "stdout"
        }
      ]
    },
    {
      "cell_type": "markdown",
      "metadata": {
        "id": "rfJI_PjLcLmp",
        "colab_type": "text"
      },
      "source": [
        "4.pattern program"
      ]
    },
    {
      "cell_type": "markdown",
      "metadata": {
        "id": "BWezhsRScOh5",
        "colab_type": "text"
      },
      "source": [
        ""
      ]
    },
    {
      "cell_type": "code",
      "metadata": {
        "id": "yOzaBVHecO4y",
        "colab_type": "code",
        "colab": {
          "base_uri": "https://localhost:8080/",
          "height": 134
        },
        "outputId": "c93e0fdd-b9c6-43db-c69d-2c32becaf94b"
      },
      "source": [
        "rows = int(input(\"enter num : \")) \n",
        "for i in range(0, rows + 1):\n",
        "    for j in range(rows - i, 0, -1): \n",
        "      print(j, end=' ')\n",
        "    print()\n",
        "\n"
      ],
      "execution_count": 6,
      "outputs": [
        {
          "output_type": "stream",
          "text": [
            "enter num : 5\n",
            "5 4 3 2 1 \n",
            "4 3 2 1 \n",
            "3 2 1 \n",
            "2 1 \n",
            "1 \n",
            "\n"
          ],
          "name": "stdout"
        }
      ]
    },
    {
      "cell_type": "markdown",
      "metadata": {
        "id": "Mr-M3vV4cv6g",
        "colab_type": "text"
      },
      "source": [
        "5.pattern preogram"
      ]
    },
    {
      "cell_type": "code",
      "metadata": {
        "id": "KYVn4CaRc0nl",
        "colab_type": "code",
        "colab": {
          "base_uri": "https://localhost:8080/",
          "height": 151
        },
        "outputId": "531be39d-6ae1-4832-d21f-258ae90ec89a"
      },
      "source": [
        "rows = 5\n",
        "n=rows-1\n",
        "for i in range(1, rows-1): \n",
        "  for j in range(i,rows):\n",
        "    print(j,end=\" \") \n",
        "  print()\n",
        "for i in range(n+1,0,-1): \n",
        "  for j in range(i,n+1):\n",
        "    print(j,end=\" \")\n",
        "  print()"
      ],
      "execution_count": 11,
      "outputs": [
        {
          "output_type": "stream",
          "text": [
            "1 2 3 4 \n",
            "2 3 4 \n",
            "3 4 \n",
            "\n",
            "4 \n",
            "3 4 \n",
            "2 3 4 \n",
            "1 2 3 4 \n"
          ],
          "name": "stdout"
        }
      ]
    },
    {
      "cell_type": "markdown",
      "metadata": {
        "id": "WFBFgDVAeeNr",
        "colab_type": "text"
      },
      "source": [
        "6.Find the length of a string without using len functions"
      ]
    },
    {
      "cell_type": "code",
      "metadata": {
        "id": "6mv31SrFeqzs",
        "colab_type": "code",
        "colab": {
          "base_uri": "https://localhost:8080/",
          "height": 50
        },
        "outputId": "b9dae1db-0f5e-428e-fcec-65c41352e1bd"
      },
      "source": [
        "str = input(\"Enter a string: \")\n",
        "counter = 0\n",
        "for s in str:\n",
        "      counter = counter+1\n",
        "print(\"Length of the input string is:\", counter)"
      ],
      "execution_count": 12,
      "outputs": [
        {
          "output_type": "stream",
          "text": [
            "Enter a string: hello\n",
            "Length of the input string is: 5\n"
          ],
          "name": "stdout"
        }
      ]
    },
    {
      "cell_type": "markdown",
      "metadata": {
        "id": "i_WAfwVNfb_L",
        "colab_type": "text"
      },
      "source": [
        "7.Find the no of words and characters in a string"
      ]
    },
    {
      "cell_type": "code",
      "metadata": {
        "id": "7fm_hto6gCi_",
        "colab_type": "code",
        "colab": {
          "base_uri": "https://localhost:8080/",
          "height": 101
        },
        "outputId": "cc3368ce-7f4f-4d22-96d0-c8f8390d4baa"
      },
      "source": [
        "string=input(\"Enter string:\")\n",
        "char=0\n",
        "word=1\n",
        "for i in string:\n",
        "      char=char+1\n",
        "      if(i==' '):\n",
        "            word=word+1\n",
        "print(\"Number of words in the string:\")\n",
        "print(word)\n",
        "print(\"Number of characters in the string:\")\n",
        "print(char)"
      ],
      "execution_count": 18,
      "outputs": [
        {
          "output_type": "stream",
          "text": [
            "Enter string:chethana gowda\n",
            "Number of words in the string:\n",
            "2\n",
            "Number of characters in the string:\n",
            "14\n"
          ],
          "name": "stdout"
        }
      ]
    },
    {
      "cell_type": "markdown",
      "metadata": {
        "id": "FxPGFQRQgZxg",
        "colab_type": "text"
      },
      "source": [
        "8.Find the no of occurrences of a word in a string"
      ]
    },
    {
      "cell_type": "code",
      "metadata": {
        "id": "UhpS8kMqgiq2",
        "colab_type": "code",
        "colab": {
          "base_uri": "https://localhost:8080/",
          "height": 34
        },
        "outputId": "15ec04e7-11ce-4faf-e0cd-fc16b0d7f2d2"
      },
      "source": [
        "def countOccurences(str, word):   \n",
        "    a = str.split(\" \") \n",
        "    count = 0\n",
        "    for i in range(0, len(a)): \n",
        "        if (word == a[i]): \n",
        "           count = count + 1       \n",
        "    return count        \n",
        "str =\"python is very easy to learn and python is dynamically typed \"\n",
        "word =\"python\"\n",
        "print(countOccurences(str, word))"
      ],
      "execution_count": 20,
      "outputs": [
        {
          "output_type": "stream",
          "text": [
            "2\n"
          ],
          "name": "stdout"
        }
      ]
    }
  ]
}